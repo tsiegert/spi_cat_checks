{
 "cells": [
  {
   "cell_type": "code",
   "execution_count": 1,
   "metadata": {},
   "outputs": [],
   "source": [
    "from astropy.io import fits\n",
    "import astropy.units as u\n",
    "import astropy.constants as c\n",
    "import numpy as np\n",
    "import matplotlib.pyplot as plt\n",
    "from matplotlib import colors"
   ]
  },
  {
   "cell_type": "code",
   "execution_count": 2,
   "metadata": {},
   "outputs": [],
   "source": [
    "spi_cat = fits.open('spi_cat.fits.gz')"
   ]
  },
  {
   "cell_type": "code",
   "execution_count": 3,
   "metadata": {},
   "outputs": [
    {
     "name": "stdout",
     "output_type": "stream",
     "text": [
      "Filename: spi_cat.fits.gz\n",
      "No.    Name      Ver    Type      Cards   Dimensions   Format\n",
      "  0  PRIMARY       1 PrimaryHDU       6   ()      \n",
      "  1  SPICAT        1 BinTableHDU     30   256R x 7C   [20A, E, E, 16E, 16E, 4A, 4E]   \n",
      "  2  EBOUNDS       1 BinTableHDU     22   16R x 4C   [E, E, E, E]   \n"
     ]
    }
   ],
   "source": [
    "spi_cat.info()"
   ]
  },
  {
   "cell_type": "code",
   "execution_count": 4,
   "metadata": {},
   "outputs": [],
   "source": [
    "ecen = spi_cat[2].data['E_CEN'] * u.keV\n",
    "eerr = spi_cat[2].data['E_ERR'] * u.keV\n",
    "emin = spi_cat[2].data['E_MIN'] * u.keV\n",
    "emax = spi_cat[2].data['E_MAX'] * u.keV"
   ]
  },
  {
   "cell_type": "code",
   "execution_count": 5,
   "metadata": {},
   "outputs": [
    {
     "data": {
      "text/plain": [
       "ColDefs(\n",
       "    name = 'NAME'; format = '20A'\n",
       "    name = 'GLON'; format = 'E'; unit = 'deg'\n",
       "    name = 'GLAT'; format = 'E'; unit = 'deg'\n",
       "    name = 'FLUX'; format = '16E'; unit = 'ph/cm2/s/keV'\n",
       "    name = 'FLUX_ERR'; format = '16E'; unit = 'ph/cm2/s/keV'\n",
       "    name = 'FITFUN'; format = '4A'\n",
       "    name = 'FITPARS'; format = '4E'\n",
       ")"
      ]
     },
     "execution_count": 5,
     "metadata": {},
     "output_type": "execute_result"
    }
   ],
   "source": [
    "spi_cat[1].columns"
   ]
  },
  {
   "cell_type": "code",
   "execution_count": 6,
   "metadata": {},
   "outputs": [
    {
     "data": {
      "text/plain": [
       "chararray(['SAX J1747.0-2853', 'IGR J17507-2856', 'Oph Cluster',\n",
       "           'SLX 1735-269', 'RX J1832-330', 'AX J1749.1-2733', 'GX 1+4',\n",
       "           'XTE J1807-294', 'GX 3+1', '4U 1820-303', 'IGR J17544-2619',\n",
       "           'GRS 1758-258', 'V1223 Sgrgg', 'GX 5-1', 'IGR J17348-2045',\n",
       "           'IGR J17461-2204', 'IGR J18173-2509', 'IGR J17597-2201',\n",
       "           '4U 1745-203', 'GX 9+9', 'GS 1826-24', 'SAX J1802.7-201ee',\n",
       "           'SGR 1806-20', 'PSR J1811-1926', 'HETE J1900.1-2455',\n",
       "           'PKS 1830-211', 'IGR J18135-1751ee', 'GX 13+1',\n",
       "           '2E 1739.1-1210', 'SAX J1818.6-1703', 'IGR J18027-1455',\n",
       "           'NGC 7172', 'GX 17+2', 'AX J1820.5-1434', 'RX J1826.2-1450',\n",
       "           'IGR J18214-1318', 'IGR J17303-0601', 'M 1812-12',\n",
       "           'IGR J183047-1232', 'IGR J18256-1035', 'SNR 021.5-00.9',\n",
       "           'AX J183039-1002', 'IGR J18259-0706', 'IGR J18325-0756',\n",
       "           'SWIFT J1753.5-0127', 'AX J1838.0-0655ff', '4U 1850-087',\n",
       "           'AX J1841.0-0535', 'IGR J18450-0435', 'RX J1940.1-1025',\n",
       "           'IGR J18483-0311', '4U1822-000', 'XTE J1855-026',\n",
       "           '4U 1916-053', 'IGR J18485-0047', 'IGR J17472+0701',\n",
       "           'GS 1843+009', 'IGR J18457+0244', 'XTE J1901+014', 'Aql X-1',\n",
       "           'Ser X-1', 'XTE J1858+034hh', '4U 1901+03', 'SS 433',\n",
       "           'IGR J18539+0727', '4U 1909+07', 'XTE J1908+094',\n",
       "           '4U 1907+097', 'IGR J19140+0951ii', 'GRS 1915+105',\n",
       "           'MR 2251-178', 'IGR J19443+2117', 'Her X-1', '3C382',\n",
       "           'Mrk 501', 'KS 1947+300', '4U 1954+31', 'Cyg X-1', 'Cyg A',\n",
       "           'EXO 2030+375', 'Cyg X-3', 'SAX J2103.5+4545', 'Cyg X-2',\n",
       "           'SS Cyg', 'RX J2135.9+4728', 'BL Lac', 'IGR J21178+5139',\n",
       "           'IGR J21247+5058', 'IGR J21335+5105', 'SWIFT J2127.4+5654',\n",
       "           '4U 2206+543', '3C 390.3', 'Cas A', '4U 0022+63',\n",
       "           'IGR J00291+5934', 'IGR J00256+6821', 'Cas', '1A 0114+650',\n",
       "           'X0115+63', '4U0142+61', 'QSO B0241+62', 'QSO B0804+761',\n",
       "           'Mrk6', 'MKN3', 'V0332+53', 'NGC 4138', 'NGC 4051', 'NGC 1275',\n",
       "           'NGC 4151', '3C 111', 'X Perg', 'NGC 788', 'IGR J06292+4858',\n",
       "           'RBS 345', 'NGC1068', 'NGC 1142', 'NGC 985', 'A0535+32',\n",
       "           'IGR J03184-0014', 'Crab', '3C120', 'Mrk 766', '4U 0614+091',\n",
       "           '3A 0656-072', 'SWIFT J0519.5-3140', '3A 0527-329', 'NGC 2992',\n",
       "           'IGR J07597-3842', 'Frl 1146', '4U 0836-429', 'MCG-05-23-016',\n",
       "           'Vela X-1', 'Vela pulsar', 'NGC 3281', '4U0919-54', 'LMC X-4h',\n",
       "           'NGC 4388', 'EXO 0748-676', 'LMC X-1', 'IGR J10404-4625',\n",
       "           'SWIFT J1038.8-4942', 'GRO J1008-57k', '4U 1036-56',\n",
       "           'IGR J05053-7343', 'NGC 3783', 'ESO 33-2', '3C 273', 'Cen X-3',\n",
       "           'IGR J11305-6256', '1E 1145.1-6141l m', 'IGRJ12026-5349',\n",
       "           'NGC 4593', 'XSS J12270-4859', 'NGC 4507', 'GX 301-2',\n",
       "           'SMC X-1', 'Ve RT Cru', '4U 1246-588', 'IGR J13020-6359',\n",
       "           'IGR J13045-5630', 'NGC 4945', 'IGR J13186-6257',\n",
       "           'ESO323-G077', '4U 1323-62', 'Cen A', '4U 1344-60',\n",
       "           'IGR J14003-6326', 'Circinus galaxy', 'IGR J14298-6715',\n",
       "           'MCG-06-30-015', 'IGR J14331-6112', 'IGR J14471-6319',\n",
       "           'IGR J15094-6649', 'IC 4329A', 'IGR J14175-4641',\n",
       "           'IGR J14492-5535', 'PSR B1509-58', 'NGC 5643',\n",
       "           'IGR J14552-5133', '4U 1543-624', '4U 1626-67', 'Cir X-1o',\n",
       "           'IGR J15359-5750', 'IGR J16056-6110', 'XTE J1550-564',\n",
       "           'IGR J14319-3315', 'IC 4518A', '4U 1538-522', 'NGC 6300',\n",
       "           'IGR J14561-3738', 'IGR J14466-3352', 'IGR J16351-5806',\n",
       "           'ESO 138-1t', 'ESO 103-35', '4U 1608-522', 'NGC 5252',\n",
       "           'IGR J15161-3827', 'IGR J15479-4529', 'IGR J16207-5129',\n",
       "           '4U 1636-536', 'IGR J16167-4957', '4U 1624-490',\n",
       "           'IGR J16318-4848', 'IGR J16558-5203', 'AX J1631.9-4752',\n",
       "           '4U 1630-47', 'IGR J16358-4726', 'AX J163904-4642',\n",
       "           'IGR J15549-3740', 'GX 339-4', 'NGC 5506', 'IGR J16418-4532',\n",
       "           'GX 340+0', 'IGR J16479-4514', 'XTE J1701-462',\n",
       "           'IGR J16493-4348s', '4U 1705-440', '4U 1702-429',\n",
       "           'OAO 1657-415', 'GRO J1655-40', '4U 1735-444',\n",
       "           'IGR J17195-4100', '4U 1700-377', 'GX 349+2',\n",
       "           'IGR J17091-3624', 'IGR J16500-3307', 'IGR J16482-3036',\n",
       "           'EXO 1722-363x', '4U 1705-32', 'IGR J17353-3539',\n",
       "           'XTE J1743-363', '1A 1744-361', 'IGR J17254-3257', 'GX 354-0',\n",
       "           'XTE J1720-318', '4U 1730-335', 'IGR J17200-3116',\n",
       "           'GRS 1724-30', 'XTE J1710-281', 'SLX 1746-331', '3A 1822-371',\n",
       "           'IGR J17464-3213', 'XTE J1709-267u', 'IGR J17285-2922',\n",
       "           'XTE J17391-3021', 'GRS 1747-312', 'GRS 1734-294', 'Sco X-1',\n",
       "           '1E 1740.7-2942z', 'QSO B1933-400', '1A 1742-294',\n",
       "           'KS 1741-293', 'IGR J17585-3057', 'XTE J1739-285',\n",
       "           'XTEJ817-330', 'V2400 Oph'], dtype='<U20')"
      ]
     },
     "execution_count": 6,
     "metadata": {},
     "output_type": "execute_result"
    }
   ],
   "source": [
    "spi_cat[1].data['NAME']"
   ]
  },
  {
   "cell_type": "code",
   "execution_count": 21,
   "metadata": {},
   "outputs": [
    {
     "data": {
      "text/plain": [
       "chararray(['BPLW', 'PLCO', 'PWLW'], dtype='<U4')"
      ]
     },
     "execution_count": 21,
     "metadata": {},
     "output_type": "execute_result"
    }
   ],
   "source": [
    "np.unique(spi_cat[1].data['FITFUN'])"
   ]
  },
  {
   "cell_type": "code",
   "execution_count": 147,
   "metadata": {},
   "outputs": [],
   "source": [
    "def PWLW(x,pars):\n",
    "    return pars[0]*x**pars[1]\n",
    "\n",
    "def PLCO(x,pars):\n",
    "    return pars[0]*(x)**pars[1]*np.exp(-x/pars[2])\n",
    "\n",
    "def BPLW(x,pars):\n",
    "    val = np.zeros(len(x))\n",
    "    lo_idx = np.where(x <= pars[2])[0]\n",
    "    hi_idx = np.where(x > pars[2])[0]\n",
    "    val[lo_idx] = pars[0]*x[lo_idx]**pars[1]\n",
    "    val[hi_idx] = pars[0]*pars[2]**(pars[1]-pars[3])*x[hi_idx]**pars[3]\n",
    "    return val"
   ]
  },
  {
   "cell_type": "code",
   "execution_count": 168,
   "metadata": {},
   "outputs": [
    {
     "data": {
      "text/plain": [
       "167"
      ]
     },
     "execution_count": 168,
     "metadata": {},
     "output_type": "execute_result"
    }
   ],
   "source": [
    "src_idx = np.where(spi_cat[1].data['NAME'] == 'Circinus galaxy')[0][0]\n",
    "src_idx"
   ]
  },
  {
   "cell_type": "code",
   "execution_count": 169,
   "metadata": {},
   "outputs": [
    {
     "data": {
      "text/plain": [
       "'PLCO'"
      ]
     },
     "execution_count": 169,
     "metadata": {},
     "output_type": "execute_result"
    }
   ],
   "source": [
    "spi_cat[1].data['FITFUN'][src_idx]"
   ]
  },
  {
   "cell_type": "code",
   "execution_count": 170,
   "metadata": {},
   "outputs": [
    {
     "data": {
      "text/plain": [
       "array([ 2.558096e-03, -5.000000e-01,  2.290000e+01,  0.000000e+00],\n",
       "      dtype=float32)"
      ]
     },
     "execution_count": 170,
     "metadata": {},
     "output_type": "execute_result"
    }
   ],
   "source": [
    "spi_cat[1].data['FITPARS'][src_idx]"
   ]
  },
  {
   "cell_type": "code",
   "execution_count": 171,
   "metadata": {},
   "outputs": [],
   "source": [
    "if spi_cat[1].data['FITFUN'][src_idx] == 'PWLW':\n",
    "    func = PWLW\n",
    "elif spi_cat[1].data['FITFUN'][src_idx] == 'PLCO':\n",
    "    func = PLCO\n",
    "else:\n",
    "    func = BPLW"
   ]
  },
  {
   "cell_type": "code",
   "execution_count": 172,
   "metadata": {},
   "outputs": [
    {
     "data": {
      "text/plain": [
       "<function __main__.PLCO(x, pars)>"
      ]
     },
     "execution_count": 172,
     "metadata": {},
     "output_type": "execute_result"
    }
   ],
   "source": [
    "func"
   ]
  },
  {
   "cell_type": "code",
   "execution_count": 173,
   "metadata": {},
   "outputs": [],
   "source": [
    "fitpars = spi_cat[1].data['FITPARS'][src_idx]"
   ]
  },
  {
   "cell_type": "code",
   "execution_count": 174,
   "metadata": {},
   "outputs": [],
   "source": [
    "spec_model = func(ecen.value,fitpars) / u.cm**2 / u.s / u.keV\n",
    "ee_spec_model = (spec_model * ecen**2).to(u.erg/u.cm**2/u.s)"
   ]
  },
  {
   "cell_type": "code",
   "execution_count": 175,
   "metadata": {},
   "outputs": [],
   "source": [
    "spec = spi_cat[1].data['FLUX'][src_idx] / u.cm**2 / u.s / u.keV\n",
    "spec_err = spi_cat[1].data['FLUX_ERR'][src_idx] / u.cm**2 / u.s / u.keV"
   ]
  },
  {
   "cell_type": "code",
   "execution_count": 176,
   "metadata": {},
   "outputs": [
    {
     "name": "stderr",
     "output_type": "stream",
     "text": [
      "/Users/thomassiegert/.virtualenvs/3ml_stuff/lib/python3.7/site-packages/astropy/units/quantity.py:477: RuntimeWarning: invalid value encountered in true_divide\n",
      "  result = super().__array_ufunc__(function, method, *arrays, **kwargs)\n"
     ]
    }
   ],
   "source": [
    "threshold_snr = 1\n",
    "\n",
    "good_idx = np.where((spec/spec_err).value > threshold_snr)[0]\n",
    "bad_idx = np.where(((spec/spec_err).value <= threshold_snr) & (np.isnan((spec/spec_err).value) == False))[0]"
   ]
  },
  {
   "cell_type": "code",
   "execution_count": 178,
   "metadata": {},
   "outputs": [
    {
     "data": {
      "image/png": "[encoded data removed]",
      "text/plain": [
       "<Figure size 737.28x552.96 with 1 Axes>"
      ]
     },
     "metadata": {
      "needs_background": "light"
     },
     "output_type": "display_data"
    }
   ],
   "source": [
    "plt.figure(figsize=(10.24,7.68))\n",
    "plt.errorbar(ecen.value[good_idx],\n",
    "             ((spec*ecen**2).to(u.erg/u.cm**2/u.s)).value[good_idx],\n",
    "             xerr=eerr.value[good_idx],\n",
    "             yerr=((spec_err*ecen**2).to(u.erg/u.cm**2/u.s)).value[good_idx],\n",
    "             marker='o',linestyle='',color='black',\n",
    "             label='{0} (INTEGRAL/SPI)'.format(spi_cat[1].data['NAME'][src_idx]))\n",
    "\n",
    "\n",
    "ul = 3\n",
    "\n",
    "plt.errorbar(ecen.value[bad_idx],\n",
    "             ((spec_err*ecen**2).to(u.erg/u.cm**2/u.s)).value[bad_idx]*ul,\n",
    "             xerr=eerr.value[bad_idx],\n",
    "             marker='v',linestyle='',color='black',markersize=10,\n",
    "             label=r'{0} (INTEGRAL/SPI ${1}\\sigma$ U.L.)'.format(spi_cat[1].data['NAME'][src_idx],ul))\n",
    "\n",
    "plt.plot(ecen.value,ee_spec_model.value,color='red',linewidth=3,\n",
    "         label='Model: {0}'.format(spi_cat[1].data['FITFUN'][src_idx]))\n",
    "\n",
    "\n",
    "plt.xscale('log')\n",
    "plt.yscale('log')\n",
    "plt.ylim(1e-11)\n",
    "plt.xlim(20,2000)\n",
    "plt.legend(fontsize=20)\n",
    "plt.xlabel('Energy [keV]',fontsize=20)\n",
    "plt.ylabel(r'$E^2 \\times F_E$ [$\\mathrm{erg\\,cm^{-2}\\,s^{-1}}$]',fontsize=20)\n",
    "plt.xticks(fontsize=20)\n",
    "plt.yticks(fontsize=20);"
   ]
  },
  {
   "cell_type": "code",
   "execution_count": null,
   "metadata": {},
   "outputs": [],
   "source": []
  },
  {
   "cell_type": "code",
   "execution_count": null,
   "metadata": {},
   "outputs": [],
   "source": []
  },
  {
   "cell_type": "code",
   "execution_count": null,
   "metadata": {},
   "outputs": [],
   "source": []
  }
 ],
 "metadata": {
  "kernelspec": {
   "display_name": "3ml_stuff",
   "language": "python",
   "name": "3ml_stuff"
  },
  "language_info": {
   "codemirror_mode": {
    "name": "ipython",
    "version": 3
   },
   "file_extension": ".py",
   "mimetype": "text/x-python",
   "name": "python",
   "nbconvert_exporter": "python",
   "pygments_lexer": "ipython3",
   "version": "3.7.13"
  }
 },
 "nbformat": 4,
 "nbformat_minor": 2
}
